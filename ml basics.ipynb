{
 "cells": [
  {
   "cell_type": "code",
   "execution_count": 2,
   "id": "403422aa-f538-422d-a9c3-8eee786b1218",
   "metadata": {
    "tags": []
   },
   "outputs": [],
   "source": [
    "a=10\n",
    "b=20\n",
    "c=a+b"
   ]
  },
  {
   "cell_type": "code",
   "execution_count": 1,
   "id": "c3415091-81b8-4d94-81d1-4995750cffda",
   "metadata": {},
   "outputs": [
    {
     "name": "stdout",
     "output_type": "stream",
     "text": [
      "shivu\n"
     ]
    }
   ],
   "source": [
    "print(\"shivu\")"
   ]
  },
  {
   "cell_type": "markdown",
   "id": "59eb89db-3371-45ff-9c1c-e4a1fd3197bf",
   "metadata": {},
   "source": []
  },
  {
   "cell_type": "code",
   "execution_count": 4,
   "id": "f6e6c673-aa17-440a-bbb4-b9a596f530e6",
   "metadata": {},
   "outputs": [
    {
     "name": "stdout",
     "output_type": "stream",
     "text": [
      "30\n"
     ]
    }
   ],
   "source": [
    "a=[10,20,30]\n",
    "print(a[2])"
   ]
  },
  {
   "cell_type": "code",
   "execution_count": 5,
   "id": "384ff22f",
   "metadata": {},
   "outputs": [],
   "source": [
    "a.append(40)"
   ]
  },
  {
   "cell_type": "code",
   "execution_count": 6,
   "id": "5e6e9f02",
   "metadata": {},
   "outputs": [
    {
     "name": "stdout",
     "output_type": "stream",
     "text": [
      "[10, 20, 30, 40]\n"
     ]
    }
   ],
   "source": [
    "print(a)"
   ]
  },
  {
   "cell_type": "code",
   "execution_count": 9,
   "id": "77cb3071",
   "metadata": {},
   "outputs": [
    {
     "name": "stdout",
     "output_type": "stream",
     "text": [
      "40\n",
      "[10, 20]\n"
     ]
    }
   ],
   "source": [
    "print(a.pop(2))\n",
    "print(a)"
   ]
  },
  {
   "cell_type": "code",
   "execution_count": 10,
   "id": "662c0382",
   "metadata": {},
   "outputs": [
    {
     "data": {
      "text/plain": [
       "[10, 20]"
      ]
     },
     "execution_count": 10,
     "metadata": {},
     "output_type": "execute_result"
    }
   ],
   "source": [
    "a"
   ]
  },
  {
   "cell_type": "code",
   "execution_count": 11,
   "id": "ae48e07c",
   "metadata": {},
   "outputs": [],
   "source": [
    "b=[20,15,54,10,2,14]\n"
   ]
  },
  {
   "cell_type": "code",
   "execution_count": 12,
   "id": "a2eef882",
   "metadata": {},
   "outputs": [
    {
     "data": {
      "text/plain": [
       "[2, 10, 14, 15, 20, 54]"
      ]
     },
     "execution_count": 12,
     "metadata": {},
     "output_type": "execute_result"
    }
   ],
   "source": [
    "b.sort()\n",
    "b"
   ]
  },
  {
   "cell_type": "code",
   "execution_count": 14,
   "id": "e4838dea",
   "metadata": {},
   "outputs": [
    {
     "data": {
      "text/plain": [
       "[10, 20, 2, 10, 14, 15, 20, 54]"
      ]
     },
     "execution_count": 14,
     "metadata": {},
     "output_type": "execute_result"
    }
   ],
   "source": [
    "a.extend(b)\n",
    "a"
   ]
  },
  {
   "cell_type": "code",
   "execution_count": 15,
   "id": "907163b0",
   "metadata": {},
   "outputs": [
    {
     "data": {
      "text/plain": [
       "[10, 20, 2, 10, 14, 15, 20, 54, 10, 20, 2, 10, 14, 15, 20, 54]"
      ]
     },
     "execution_count": 15,
     "metadata": {},
     "output_type": "execute_result"
    }
   ],
   "source": [
    "a=a*2\n",
    "a"
   ]
  },
  {
   "cell_type": "code",
   "execution_count": 16,
   "id": "67351ab8",
   "metadata": {},
   "outputs": [
    {
     "data": {
      "text/plain": [
       "[2, 2, 10, 10, 10, 10, 14, 14, 15, 15, 20, 20, 20, 20, 54, 54]"
      ]
     },
     "execution_count": 16,
     "metadata": {},
     "output_type": "execute_result"
    }
   ],
   "source": [
    "a.sort()\n",
    "a"
   ]
  },
  {
   "cell_type": "code",
   "execution_count": 21,
   "id": "ee624573",
   "metadata": {},
   "outputs": [
    {
     "data": {
      "text/plain": [
       "[2, 10, 10, 10, 10, 14, 14, 15, 15]"
      ]
     },
     "execution_count": 21,
     "metadata": {},
     "output_type": "execute_result"
    }
   ],
   "source": [
    "a[1:10]\n"
   ]
  },
  {
   "cell_type": "code",
   "execution_count": 19,
   "id": "564f5774",
   "metadata": {},
   "outputs": [
    {
     "data": {
      "text/plain": [
       "[2, 10, 10, 10]"
      ]
     },
     "execution_count": 19,
     "metadata": {},
     "output_type": "execute_result"
    }
   ],
   "source": [
    "a[1:5]"
   ]
  },
  {
   "cell_type": "code",
   "execution_count": 20,
   "id": "2220a074",
   "metadata": {},
   "outputs": [
    {
     "data": {
      "text/plain": [
       "[2, 10, 10, 14, 15]"
      ]
     },
     "execution_count": 20,
     "metadata": {},
     "output_type": "execute_result"
    }
   ],
   "source": [
    "a[1:10:2]"
   ]
  },
  {
   "cell_type": "code",
   "execution_count": 22,
   "id": "08b7f53d",
   "metadata": {},
   "outputs": [
    {
     "data": {
      "text/plain": [
       "[54, 54, 20, 20, 20, 20, 15, 15, 14, 14, 10, 10, 10, 10, 2, 2]"
      ]
     },
     "execution_count": 22,
     "metadata": {},
     "output_type": "execute_result"
    }
   ],
   "source": [
    "a[::-1]"
   ]
  },
  {
   "cell_type": "code",
   "execution_count": 24,
   "id": "f1fe6988",
   "metadata": {},
   "outputs": [
    {
     "data": {
      "text/plain": [
       "[2, 2, 10, 10, 10, 10, 14, 14, 15, 15, 20, 20, 20, 20, 54, 54]"
      ]
     },
     "execution_count": 24,
     "metadata": {},
     "output_type": "execute_result"
    }
   ],
   "source": [
    "a.sort()\n",
    "a"
   ]
  },
  {
   "cell_type": "code",
   "execution_count": 27,
   "id": "5ad9a8f3",
   "metadata": {},
   "outputs": [
    {
     "data": {
      "text/plain": [
       "16"
      ]
     },
     "execution_count": 27,
     "metadata": {},
     "output_type": "execute_result"
    }
   ],
   "source": [
    "s=len(a)\n",
    "s"
   ]
  },
  {
   "cell_type": "code",
   "execution_count": 28,
   "id": "6ac98afd",
   "metadata": {},
   "outputs": [
    {
     "data": {
      "text/plain": [
       "6"
      ]
     },
     "execution_count": 28,
     "metadata": {},
     "output_type": "execute_result"
    }
   ],
   "source": [
    "a.index(14)"
   ]
  },
  {
   "cell_type": "code",
   "execution_count": 29,
   "id": "fd7c850c",
   "metadata": {},
   "outputs": [
    {
     "data": {
      "text/plain": [
       "290"
      ]
     },
     "execution_count": 29,
     "metadata": {},
     "output_type": "execute_result"
    }
   ],
   "source": [
    "sum(a)"
   ]
  },
  {
   "cell_type": "code",
   "execution_count": 30,
   "id": "d011318b",
   "metadata": {},
   "outputs": [],
   "source": [
    "s=sum(a)/len(a)"
   ]
  },
  {
   "cell_type": "code",
   "execution_count": 31,
   "id": "597288b9",
   "metadata": {},
   "outputs": [
    {
     "data": {
      "text/plain": [
       "18.125"
      ]
     },
     "execution_count": 31,
     "metadata": {},
     "output_type": "execute_result"
    }
   ],
   "source": [
    "s"
   ]
  },
  {
   "cell_type": "code",
   "execution_count": 32,
   "id": "151172f8",
   "metadata": {},
   "outputs": [
    {
     "data": {
      "text/plain": [
       "54"
      ]
     },
     "execution_count": 32,
     "metadata": {},
     "output_type": "execute_result"
    }
   ],
   "source": [
    "max(a)"
   ]
  },
  {
   "cell_type": "code",
   "execution_count": 33,
   "id": "d490822e",
   "metadata": {},
   "outputs": [
    {
     "data": {
      "text/plain": [
       "2"
      ]
     },
     "execution_count": 33,
     "metadata": {},
     "output_type": "execute_result"
    }
   ],
   "source": [
    "min(a)"
   ]
  },
  {
   "cell_type": "code",
   "execution_count": 35,
   "id": "b4dd6ab6",
   "metadata": {},
   "outputs": [],
   "source": [
    "a.sort()"
   ]
  },
  {
   "cell_type": "code",
   "execution_count": 36,
   "id": "00d90c1c",
   "metadata": {},
   "outputs": [
    {
     "data": {
      "text/plain": [
       "[2, 2, 10, 10, 10, 10, 14, 14, 15, 15, 20, 20, 20, 20, 54, 54]"
      ]
     },
     "execution_count": 36,
     "metadata": {},
     "output_type": "execute_result"
    }
   ],
   "source": [
    "a"
   ]
  },
  {
   "cell_type": "code",
   "execution_count": 7,
   "id": "0d96d5b8",
   "metadata": {},
   "outputs": [
    {
     "name": "stdout",
     "output_type": "stream",
     "text": [
      "hello world 0\n",
      "hello world 1\n",
      "hello world 2\n",
      "hello world 3\n",
      "hello world 4\n",
      "hello world 5\n",
      "hello world 6\n",
      "hello world 7\n",
      "hello world 8\n",
      "hello world 9\n",
      "hello world 10\n",
      "hello world 11\n",
      "hello world 12\n",
      "hello world 13\n",
      "hello world 14\n",
      "hello world 15\n",
      "hello world 16\n",
      "hello world 17\n",
      "hello world 18\n",
      "hello world 19\n",
      "hello world 20\n",
      "hello world 21\n",
      "hello world 22\n"
     ]
    }
   ],
   "source": [
    "i=0\n",
    "while i<=22:\n",
    " print(\"hello world\",i)\n",
    " i+=1"
   ]
  },
  {
   "cell_type": "code",
   "execution_count": 9,
   "id": "8300ca3e",
   "metadata": {},
   "outputs": [
    {
     "name": "stdout",
     "output_type": "stream",
     "text": [
      "1\n",
      "2\n",
      "3\n",
      "4\n",
      "5\n",
      "6\n",
      "7\n",
      "8\n"
     ]
    }
   ],
   "source": [
    "a=[1,2,3,4,5,6,7,8]\n",
    "for i in a:\n",
    "  print(i)"
   ]
  },
  {
   "cell_type": "code",
   "execution_count": 11,
   "id": "9e306a64",
   "metadata": {},
   "outputs": [
    {
     "name": "stdout",
     "output_type": "stream",
     "text": [
      "1\n",
      "3\n",
      "5\n",
      "7\n",
      "9\n"
     ]
    }
   ],
   "source": [
    "for i in range(1,10,2):\n",
    " print(i)"
   ]
  },
  {
   "cell_type": "code",
   "execution_count": 14,
   "id": "6ffa3d99",
   "metadata": {},
   "outputs": [
    {
     "name": "stdout",
     "output_type": "stream",
     "text": [
      "enter start num2\n",
      "enetr stop num23\n",
      "2\n",
      "4\n",
      "6\n",
      "8\n",
      "10\n",
      "12\n",
      "14\n",
      "16\n",
      "18\n",
      "20\n",
      "22\n"
     ]
    }
   ],
   "source": [
    "a=int(input(\"enter start num\" ))\n",
    "z=int(input(\"enetr stop num\"))\n",
    "for i in range (a,z,2):\n",
    "    print(i)"
   ]
  },
  {
   "cell_type": "code",
   "execution_count": 20,
   "id": "436e25bc",
   "metadata": {},
   "outputs": [
    {
     "name": "stdout",
     "output_type": "stream",
     "text": [
      "a\n",
      "b\n",
      "4\n",
      "#\n",
      "/\n",
      "f\n",
      "g\n",
      "h\n",
      "shivu\n",
      "@\n"
     ]
    }
   ],
   "source": [
    "a=['a','b','4','#','/','f','g','h','shivu','@']\n",
    "for i in a:\n",
    "    print(i)"
   ]
  },
  {
   "cell_type": "code",
   "execution_count": 29,
   "id": "ae62f597",
   "metadata": {},
   "outputs": [
    {
     "name": "stdout",
     "output_type": "stream",
     "text": [
      "20\n",
      "30\n",
      "52\n"
     ]
    }
   ],
   "source": [
    "d={'a':20,'b':30,'c':52}\n",
    "for i in d:\n",
    "  print(d[i])"
   ]
  },
  {
   "cell_type": "code",
   "execution_count": 34,
   "id": "33f94d39",
   "metadata": {},
   "outputs": [
    {
     "name": "stdout",
     "output_type": "stream",
     "text": [
      "enter num25\n",
      "enter num29\n",
      "(33, 31)\n"
     ]
    }
   ],
   "source": [
    "#funcation with return value\n",
    "def sh(i,j):\n",
    "   i=i+8\n",
    "   j=j+2\n",
    "   return i,j\n",
    "#main program\n",
    "i=int(input(\"enter num\"))\n",
    "j=int(input(\"enter num\"))\n",
    "k=sh(i,j)\n",
    "print(k)\n",
    "    "
   ]
  },
  {
   "cell_type": "code",
   "execution_count": 35,
   "id": "33bc93b7",
   "metadata": {},
   "outputs": [
    {
     "name": "stdout",
     "output_type": "stream",
     "text": [
      "enter num22\n",
      "enter num45\n",
      "30 47\n"
     ]
    }
   ],
   "source": [
    "#funcation without return value\n",
    "def sh(i,j):\n",
    "   i=i+8\n",
    "   j=j+2\n",
    "   print(i,j)\n",
    "#main program\n",
    "i=int(input(\"enter num\"))\n",
    "j=int(input(\"enter num\"))\n",
    "sh(i,j)\n"
   ]
  },
  {
   "cell_type": "code",
   "execution_count": 37,
   "id": "5f7f9305",
   "metadata": {},
   "outputs": [
    {
     "name": "stdout",
     "output_type": "stream",
     "text": [
      "enter num12\n",
      "enter num25\n",
      "37\n",
      "-13\n",
      "300\n",
      "0.48\n"
     ]
    }
   ],
   "source": [
    "def add(a,b):\n",
    " return a+b\n",
    "def sub(a,b):\n",
    " return a-b\n",
    "def mul(a,b):\n",
    " return a*b\n",
    "def div(a,b):\n",
    " if b!=0:\n",
    "   return a/b\n",
    "a=int(input(\"enter num\"))\n",
    "b=int(input(\"enter num\"))\n",
    "print(add(a,b))\n",
    "print(sub(a,b))\n",
    "print(mul(a,b))\n",
    "print(div(a,b))\n"
   ]
  },
  {
   "cell_type": "code",
   "execution_count": 39,
   "id": "ef5e8c49",
   "metadata": {},
   "outputs": [
    {
     "name": "stdout",
     "output_type": "stream",
     "text": [
      "254\n"
     ]
    }
   ],
   "source": [
    "def add(lst):\n",
    " return sum(lst)\n",
    "lst=[10,20,36,45,74,55,14]\n",
    "print(add(lst))"
   ]
  },
  {
   "cell_type": "code",
   "execution_count": 46,
   "id": "dc6e4ec8",
   "metadata": {},
   "outputs": [
    {
     "name": "stdout",
     "output_type": "stream",
     "text": [
      "10\n",
      "5\n",
      "8\n",
      "16\n",
      "10\n"
     ]
    }
   ],
   "source": [
    "def sum(a,c,b,d,e=10):\n",
    "  print(a)\n",
    "  print(b)\n",
    "  print(c)\n",
    "  print(d)\n",
    "  print(e)\n",
    "sum(a=10,b=5,c=8,d=16)"
   ]
  },
  {
   "cell_type": "code",
   "execution_count": 55,
   "id": "62646355",
   "metadata": {},
   "outputs": [
    {
     "name": "stdout",
     "output_type": "stream",
     "text": [
      "10\n",
      "20\n",
      "30\n",
      "40\n",
      "50\n"
     ]
    }
   ],
   "source": [
    "def sum(a):\n",
    "  for i in a:\n",
    "    print(i)\n",
    "a=(10,20,30,40,50)\n",
    "sum(a)"
   ]
  },
  {
   "cell_type": "code",
   "execution_count": 56,
   "id": "30ab503f",
   "metadata": {},
   "outputs": [
    {
     "name": "stdout",
     "output_type": "stream",
     "text": [
      "5\n",
      "(9, 8, 7)\n"
     ]
    }
   ],
   "source": [
    "def add(a,*b):\n",
    "  print(a)\n",
    "  print(b)\n",
    "add(5,9,8,7)"
   ]
  },
  {
   "cell_type": "code",
   "execution_count": 57,
   "id": "58a4445b",
   "metadata": {},
   "outputs": [
    {
     "name": "stdout",
     "output_type": "stream",
     "text": [
      "5\n",
      "('shivu', 'aman', 'veer')\n"
     ]
    }
   ],
   "source": [
    "def add(a,*b):\n",
    "  print(a)\n",
    "  print(b)\n",
    "add(5,\"shivu\",\"aman\",\"veer\")"
   ]
  },
  {
   "cell_type": "code",
   "execution_count": 61,
   "id": "f84fed37",
   "metadata": {},
   "outputs": [
    {
     "name": "stdout",
     "output_type": "stream",
     "text": [
      "10\n",
      "{'b': (2, 54, 54, 4, 4), 's': 'shivu'}\n"
     ]
    }
   ],
   "source": [
    "def add(a,**b):\n",
    "    print(a)\n",
    "    print(b)\n",
    "add(10,b=(2,54,54,4,4),s=\"shivu\")"
   ]
  },
  {
   "cell_type": "code",
   "execution_count": 67,
   "id": "c3fb6cde",
   "metadata": {},
   "outputs": [
    {
     "ename": "NameError",
     "evalue": "name 's' is not defined",
     "output_type": "error",
     "traceback": [
      "\u001b[1;31m---------------------------------------------------------------------------\u001b[0m",
      "\u001b[1;31mNameError\u001b[0m                                 Traceback (most recent call last)",
      "Cell \u001b[1;32mIn[67], line 1\u001b[0m\n\u001b[1;32m----> 1\u001b[0m \u001b[38;5;28;01mfor\u001b[39;00m i \u001b[38;5;129;01min\u001b[39;00m s:\n\u001b[0;32m      2\u001b[0m  \u001b[38;5;28;01mdef\u001b[39;00m \u001b[38;5;21msqure\u001b[39m(i):\n\u001b[0;32m      3\u001b[0m    \u001b[38;5;28mprint\u001b[39m(i\u001b[38;5;241m*\u001b[39mi)\n",
      "\u001b[1;31mNameError\u001b[0m: name 's' is not defined"
     ]
    }
   ],
   "source": [
    " for i in s:\n",
    "  def squre(i):\n",
    "    print(i*i)\n",
    "s=int(input(\"\"))"
   ]
  },
  {
   "cell_type": "code",
   "execution_count": 70,
   "id": "881b4ee9",
   "metadata": {},
   "outputs": [
    {
     "name": "stdout",
     "output_type": "stream",
     "text": [
      "3136\n"
     ]
    }
   ],
   "source": [
    "#lambda funcation\n",
    "squa=lambda a:a**2\n",
    "print(squa(56))"
   ]
  },
  {
   "cell_type": "code",
   "execution_count": 73,
   "id": "a0f0d9fa",
   "metadata": {},
   "outputs": [
    {
     "name": "stdout",
     "output_type": "stream",
     "text": [
      "[5, 4, 3]\n"
     ]
    }
   ],
   "source": [
    "a=[1,2,3,4,5]\n",
    "print(a[-1:-4:-1])"
   ]
  },
  {
   "cell_type": "code",
   "execution_count": null,
   "id": "7906be53",
   "metadata": {},
   "outputs": [],
   "source": []
  },
  {
   "cell_type": "code",
   "execution_count": null,
   "id": "432de42b",
   "metadata": {},
   "outputs": [],
   "source": []
  },
  {
   "cell_type": "code",
   "execution_count": null,
   "id": "5727e13f",
   "metadata": {},
   "outputs": [],
   "source": []
  },
  {
   "cell_type": "code",
   "execution_count": null,
   "id": "673ca71d",
   "metadata": {},
   "outputs": [],
   "source": []
  }
 ],
 "metadata": {
  "kernelspec": {
   "display_name": "Python 3 (ipykernel)",
   "language": "python",
   "name": "python3"
  },
  "language_info": {
   "codemirror_mode": {
    "name": "ipython",
    "version": 3
   },
   "file_extension": ".py",
   "mimetype": "text/x-python",
   "name": "python",
   "nbconvert_exporter": "python",
   "pygments_lexer": "ipython3",
   "version": "3.11.4"
  }
 },
 "nbformat": 4,
 "nbformat_minor": 5
}
